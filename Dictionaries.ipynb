{
 "cells": [
  {
   "cell_type": "code",
   "execution_count": 1,
   "id": "229b136f",
   "metadata": {},
   "outputs": [],
   "source": [
    "d = {\"tom\":8951706066, \"Naveen\":9886657506, \"Monkey\":9008782951}"
   ]
  },
  {
   "cell_type": "code",
   "execution_count": 3,
   "id": "295f841f",
   "metadata": {},
   "outputs": [
    {
     "data": {
      "text/plain": [
       "9886657506"
      ]
     },
     "execution_count": 3,
     "metadata": {},
     "output_type": "execute_result"
    }
   ],
   "source": [
    "## fetching a value from dictionary\n",
    "\n",
    "d[\"Naveen\"]"
   ]
  },
  {
   "cell_type": "code",
   "execution_count": 5,
   "id": "5f4d8d64",
   "metadata": {},
   "outputs": [],
   "source": [
    "## adding a value to the dictionary\n",
    "d[\"Stranger\"] = 9391365713"
   ]
  },
  {
   "cell_type": "code",
   "execution_count": 6,
   "id": "879a0980",
   "metadata": {},
   "outputs": [
    {
     "data": {
      "text/plain": [
       "{'tom': 8951706066,\n",
       " 'Naveen': 9886657506,\n",
       " 'Monkey': 9008782951,\n",
       " 'Stranger': 9391365713}"
      ]
     },
     "execution_count": 6,
     "metadata": {},
     "output_type": "execute_result"
    }
   ],
   "source": [
    "d  ## order doesn't matter"
   ]
  },
  {
   "cell_type": "code",
   "execution_count": 7,
   "id": "642db54f",
   "metadata": {},
   "outputs": [],
   "source": [
    "## deleting an entry\n",
    "\n",
    "del d[\"Monkey\"]"
   ]
  },
  {
   "cell_type": "code",
   "execution_count": 8,
   "id": "c78f063d",
   "metadata": {},
   "outputs": [
    {
     "data": {
      "text/plain": [
       "{'tom': 8951706066, 'Naveen': 9886657506, 'Stranger': 9391365713}"
      ]
     },
     "execution_count": 8,
     "metadata": {},
     "output_type": "execute_result"
    }
   ],
   "source": [
    "d"
   ]
  },
  {
   "cell_type": "code",
   "execution_count": 11,
   "id": "d402822d",
   "metadata": {},
   "outputs": [
    {
     "name": "stdout",
     "output_type": "stream",
     "text": [
      "name is tom number is  8951706066\n",
      "name is Naveen number is  9886657506\n",
      "name is Stranger number is  9391365713\n"
     ]
    }
   ],
   "source": [
    "for key in d:\n",
    "    print(\"name is \"+ key + \" number is \",d[key])"
   ]
  },
  {
   "cell_type": "code",
   "execution_count": 12,
   "id": "5d7ac9fe",
   "metadata": {},
   "outputs": [
    {
     "data": {
      "text/plain": [
       "True"
      ]
     },
     "execution_count": 12,
     "metadata": {},
     "output_type": "execute_result"
    }
   ],
   "source": [
    "## check wether a particular value present in the dictionary or not\n",
    "\n",
    "\"Naveen\" in d"
   ]
  },
  {
   "cell_type": "code",
   "execution_count": 13,
   "id": "39367edf",
   "metadata": {},
   "outputs": [
    {
     "data": {
      "text/plain": [
       "False"
      ]
     },
     "execution_count": 13,
     "metadata": {},
     "output_type": "execute_result"
    }
   ],
   "source": [
    "\"Gagan\" in d"
   ]
  },
  {
   "cell_type": "code",
   "execution_count": 18,
   "id": "68c93c4a",
   "metadata": {},
   "outputs": [],
   "source": [
    "d_copy = d"
   ]
  },
  {
   "cell_type": "code",
   "execution_count": 19,
   "id": "1fc7fc6e",
   "metadata": {},
   "outputs": [],
   "source": [
    "## clearing the dictionary \n",
    "\n",
    "d.clear()"
   ]
  },
  {
   "cell_type": "code",
   "execution_count": 20,
   "id": "9e6dac3e",
   "metadata": {},
   "outputs": [
    {
     "data": {
      "text/plain": [
       "{}"
      ]
     },
     "execution_count": 20,
     "metadata": {},
     "output_type": "execute_result"
    }
   ],
   "source": [
    "d"
   ]
  },
  {
   "cell_type": "code",
   "execution_count": 21,
   "id": "0cad9ec9",
   "metadata": {},
   "outputs": [
    {
     "data": {
      "text/plain": [
       "{}"
      ]
     },
     "execution_count": 21,
     "metadata": {},
     "output_type": "execute_result"
    }
   ],
   "source": [
    "d_copy"
   ]
  },
  {
   "cell_type": "code",
   "execution_count": 31,
   "id": "21b24f83",
   "metadata": {},
   "outputs": [],
   "source": [
    "dict1 = {\"A\":1, \"B\":2, \"C\":3}"
   ]
  },
  {
   "cell_type": "code",
   "execution_count": 32,
   "id": "e7aacbfc",
   "metadata": {},
   "outputs": [
    {
     "data": {
      "text/plain": [
       "{'A': 1, 'B': 2, 'C': 3}"
      ]
     },
     "execution_count": 32,
     "metadata": {},
     "output_type": "execute_result"
    }
   ],
   "source": [
    "dict1"
   ]
  },
  {
   "cell_type": "code",
   "execution_count": 35,
   "id": "9a71fb0a",
   "metadata": {},
   "outputs": [],
   "source": [
    "dict2 = dict1.copy()  ## should copy, if we assign it the data will be lost if we claer the data from the orginal dict"
   ]
  },
  {
   "cell_type": "code",
   "execution_count": 36,
   "id": "0cb8d67e",
   "metadata": {},
   "outputs": [
    {
     "data": {
      "text/plain": [
       "{'A': 1, 'B': 2, 'C': 3}"
      ]
     },
     "execution_count": 36,
     "metadata": {},
     "output_type": "execute_result"
    }
   ],
   "source": [
    "dict2"
   ]
  },
  {
   "cell_type": "code",
   "execution_count": 37,
   "id": "7716fc81",
   "metadata": {},
   "outputs": [],
   "source": [
    "dict1.clear()"
   ]
  },
  {
   "cell_type": "code",
   "execution_count": 38,
   "id": "90236d10",
   "metadata": {},
   "outputs": [
    {
     "data": {
      "text/plain": [
       "{}"
      ]
     },
     "execution_count": 38,
     "metadata": {},
     "output_type": "execute_result"
    }
   ],
   "source": [
    "dict1"
   ]
  },
  {
   "cell_type": "code",
   "execution_count": 39,
   "id": "f17da33e",
   "metadata": {},
   "outputs": [
    {
     "data": {
      "text/plain": [
       "{'A': 1, 'B': 2, 'C': 3}"
      ]
     },
     "execution_count": 39,
     "metadata": {},
     "output_type": "execute_result"
    }
   ],
   "source": [
    "dict2"
   ]
  },
  {
   "cell_type": "code",
   "execution_count": 40,
   "id": "696f4e17",
   "metadata": {},
   "outputs": [],
   "source": [
    "## List vs Tuple\n",
    "\n",
    "## List -- Homogenous data - same meaning data - all are marks\n",
    "## tuple -- Hetrogeneous data - different meaning data - x and y coordinates"
   ]
  },
  {
   "cell_type": "code",
   "execution_count": null,
   "id": "f5644d72",
   "metadata": {},
   "outputs": [],
   "source": [
    "|"
   ]
  }
 ],
 "metadata": {
  "kernelspec": {
   "display_name": "Python 3 (ipykernel)",
   "language": "python",
   "name": "python3"
  },
  "language_info": {
   "codemirror_mode": {
    "name": "ipython",
    "version": 3
   },
   "file_extension": ".py",
   "mimetype": "text/x-python",
   "name": "python",
   "nbconvert_exporter": "python",
   "pygments_lexer": "ipython3",
   "version": "3.9.13"
  }
 },
 "nbformat": 4,
 "nbformat_minor": 5
}
